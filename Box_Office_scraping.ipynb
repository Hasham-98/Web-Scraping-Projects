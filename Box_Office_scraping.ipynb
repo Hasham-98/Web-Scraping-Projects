{
 "cells": [
  {
   "cell_type": "code",
   "execution_count": 1,
   "metadata": {},
   "outputs": [],
   "source": [
    "import pandas as pd\n",
    "from selenium import webdriver"
   ]
  },
  {
   "cell_type": "code",
   "execution_count": 2,
   "metadata": {},
   "outputs": [],
   "source": [
    "mojo = webdriver.Chrome()"
   ]
  },
  {
   "cell_type": "code",
   "execution_count": 3,
   "metadata": {},
   "outputs": [],
   "source": [
    "mojo.get('https://www.boxofficemojo.com/chart/top_lifetime_gross/?area=XWW')"
   ]
  },
  {
   "cell_type": "code",
   "execution_count": 11,
   "metadata": {},
   "outputs": [],
   "source": [
    "movies = mojo.find_elements('xpath',\"//div[@class='a-section imdb-scroll-table mojo-gutter-sides imdb-scroll-table-styles']\")"
   ]
  },
  {
   "cell_type": "code",
   "execution_count": 12,
   "metadata": {},
   "outputs": [],
   "source": [
    "\n",
    "movie_ranks = []\n",
    "movie_titles = []\n",
    "movie_lfgross= []\n",
    "movie_years = []\n",
    "\n",
    "movies = mojo.find_elements('xpath',\"//div[@class='a-section imdb-scroll-table mojo-gutter-sides imdb-scroll-table-styles']\")\n",
    "for movie in movies:\n",
    "    \n",
    "    rank = movie.find_elements('xpath',\".//td[@class='a-text-right mojo-header-column mojo-truncate mojo-field-type-rank']\") \n",
    "    for r in rank:\n",
    "        movie_ranks.append(r.text) \n",
    "    \n",
    "    title = movie.find_elements('xpath',\".//td[@class='a-text-left mojo-field-type-title']\")\n",
    "    for t in title:\n",
    "        movie_titles.append(t.text)\n",
    "\n",
    "    lifetime_gross = movie.find_elements('xpath',\".//td[@class='a-text-right mojo-field-type-money']\")\n",
    "    for l in lifetime_gross:\n",
    "        movie_lfgross.append(l.text)\n",
    "    \n",
    "    year = movie.find_elements('xpath',\".//td[@class='a-text-left mojo-field-type-year']\")\n",
    "    for y in year:\n",
    "        movie_years.append(y.text)\n"
   ]
  },
  {
   "cell_type": "code",
   "execution_count": 8,
   "metadata": {},
   "outputs": [
    {
     "data": {
      "text/plain": [
       "(200, 200, 200, 200)"
      ]
     },
     "execution_count": 8,
     "metadata": {},
     "output_type": "execute_result"
    }
   ],
   "source": [
    "len(movie_ranks), len(movie_titles),len(movie_lfgross),len(movie_years)\n"
   ]
  },
  {
   "cell_type": "code",
   "execution_count": 9,
   "metadata": {},
   "outputs": [
    {
     "data": {
      "text/html": [
       "<div>\n",
       "<style scoped>\n",
       "    .dataframe tbody tr th:only-of-type {\n",
       "        vertical-align: middle;\n",
       "    }\n",
       "\n",
       "    .dataframe tbody tr th {\n",
       "        vertical-align: top;\n",
       "    }\n",
       "\n",
       "    .dataframe thead th {\n",
       "        text-align: right;\n",
       "    }\n",
       "</style>\n",
       "<table border=\"1\" class=\"dataframe\">\n",
       "  <thead>\n",
       "    <tr style=\"text-align: right;\">\n",
       "      <th></th>\n",
       "      <th>Rank</th>\n",
       "      <th>Title</th>\n",
       "      <th>Lifetime gross</th>\n",
       "      <th>Year</th>\n",
       "    </tr>\n",
       "  </thead>\n",
       "  <tbody>\n",
       "    <tr>\n",
       "      <th>0</th>\n",
       "      <td>1</td>\n",
       "      <td>Avatar</td>\n",
       "      <td>$2,923,706,026</td>\n",
       "      <td>2009</td>\n",
       "    </tr>\n",
       "    <tr>\n",
       "      <th>1</th>\n",
       "      <td>2</td>\n",
       "      <td>Avengers: Endgame</td>\n",
       "      <td>$2,799,439,100</td>\n",
       "      <td>2019</td>\n",
       "    </tr>\n",
       "    <tr>\n",
       "      <th>2</th>\n",
       "      <td>3</td>\n",
       "      <td>Avatar: The Way of Water</td>\n",
       "      <td>$2,320,250,281</td>\n",
       "      <td>2022</td>\n",
       "    </tr>\n",
       "    <tr>\n",
       "      <th>3</th>\n",
       "      <td>4</td>\n",
       "      <td>Titanic</td>\n",
       "      <td>$2,264,750,694</td>\n",
       "      <td>1997</td>\n",
       "    </tr>\n",
       "    <tr>\n",
       "      <th>4</th>\n",
       "      <td>5</td>\n",
       "      <td>Star Wars: Episode VII - The Force Awakens</td>\n",
       "      <td>$2,071,310,218</td>\n",
       "      <td>2015</td>\n",
       "    </tr>\n",
       "    <tr>\n",
       "      <th>5</th>\n",
       "      <td>6</td>\n",
       "      <td>Avengers: Infinity War</td>\n",
       "      <td>$2,052,415,039</td>\n",
       "      <td>2018</td>\n",
       "    </tr>\n",
       "    <tr>\n",
       "      <th>6</th>\n",
       "      <td>7</td>\n",
       "      <td>Spider-Man: No Way Home</td>\n",
       "      <td>$1,922,598,800</td>\n",
       "      <td>2021</td>\n",
       "    </tr>\n",
       "    <tr>\n",
       "      <th>7</th>\n",
       "      <td>8</td>\n",
       "      <td>Jurassic World</td>\n",
       "      <td>$1,671,537,444</td>\n",
       "      <td>2015</td>\n",
       "    </tr>\n",
       "    <tr>\n",
       "      <th>8</th>\n",
       "      <td>9</td>\n",
       "      <td>The Lion King</td>\n",
       "      <td>$1,663,079,059</td>\n",
       "      <td>2019</td>\n",
       "    </tr>\n",
       "    <tr>\n",
       "      <th>9</th>\n",
       "      <td>10</td>\n",
       "      <td>The Avengers</td>\n",
       "      <td>$1,520,538,536</td>\n",
       "      <td>2012</td>\n",
       "    </tr>\n",
       "  </tbody>\n",
       "</table>\n",
       "</div>"
      ],
      "text/plain": [
       "  Rank                                       Title  Lifetime gross  Year\n",
       "0    1                                      Avatar  $2,923,706,026  2009\n",
       "1    2                           Avengers: Endgame  $2,799,439,100  2019\n",
       "2    3                    Avatar: The Way of Water  $2,320,250,281  2022\n",
       "3    4                                     Titanic  $2,264,750,694  1997\n",
       "4    5  Star Wars: Episode VII - The Force Awakens  $2,071,310,218  2015\n",
       "5    6                      Avengers: Infinity War  $2,052,415,039  2018\n",
       "6    7                     Spider-Man: No Way Home  $1,922,598,800  2021\n",
       "7    8                              Jurassic World  $1,671,537,444  2015\n",
       "8    9                               The Lion King  $1,663,079,059  2019\n",
       "9   10                                The Avengers  $1,520,538,536  2012"
      ]
     },
     "execution_count": 9,
     "metadata": {},
     "output_type": "execute_result"
    }
   ],
   "source": [
    "data = pd.DataFrame({\"Rank\": movie_ranks, \"Title\": movie_titles, \"Lifetime gross\": movie_lfgross, \"Year\": movie_years})\n",
    "movies = pd.DataFrame(data)\n",
    "movies.head(10)"
   ]
  },
  {
   "cell_type": "code",
   "execution_count": 10,
   "metadata": {},
   "outputs": [
    {
     "data": {
      "text/plain": [
       "Rank              0\n",
       "Title             0\n",
       "Lifetime gross    0\n",
       "Year              0\n",
       "dtype: int64"
      ]
     },
     "execution_count": 10,
     "metadata": {},
     "output_type": "execute_result"
    }
   ],
   "source": [
    "movies.isnull().sum()"
   ]
  },
  {
   "cell_type": "code",
   "execution_count": 30,
   "metadata": {},
   "outputs": [],
   "source": [
    "#movies.to_excel('Box Office Mojo')\n",
    "movies.to_json('Box Office Mojo')"
   ]
  },
  {
   "cell_type": "code",
   "execution_count": null,
   "metadata": {},
   "outputs": [],
   "source": []
  }
 ],
 "metadata": {
  "kernelspec": {
   "display_name": "Python 3",
   "language": "python",
   "name": "python3"
  },
  "language_info": {
   "codemirror_mode": {
    "name": "ipython",
    "version": 3
   },
   "file_extension": ".py",
   "mimetype": "text/x-python",
   "name": "python",
   "nbconvert_exporter": "python",
   "pygments_lexer": "ipython3",
   "version": "3.10.2"
  }
 },
 "nbformat": 4,
 "nbformat_minor": 2
}
