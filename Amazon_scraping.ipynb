{
 "cells": [
  {
   "cell_type": "code",
   "execution_count": 1,
   "metadata": {},
   "outputs": [],
   "source": [
    "import pandas as pd\n",
    "from selenium import webdriver"
   ]
  },
  {
   "cell_type": "code",
   "execution_count": 2,
   "metadata": {},
   "outputs": [],
   "source": [
    "fathi = webdriver.Chrome()"
   ]
  },
  {
   "cell_type": "code",
   "execution_count": 3,
   "metadata": {},
   "outputs": [],
   "source": [
    "fathi.get('https://www.amazon.eg/s?k=samsung&rh=p_89%3Asamsung&language=en&ref=SQEG-WEB-SR301')"
   ]
  },
  {
   "cell_type": "code",
   "execution_count": 4,
   "metadata": {},
   "outputs": [],
   "source": [
    "products = fathi.find_elements('xpath',\"//div[@class='a-section a-spacing-base']\")                                         "
   ]
  },
  {
   "cell_type": "code",
   "execution_count": 5,
   "metadata": {},
   "outputs": [],
   "source": [
    "product_titles = []\n",
    "product_prices = []\n",
    "product_images = []\n",
    "product_rates = []\n",
    "product_rating = []\n",
    "\n",
    "for product in products:\n",
    "    \n",
    "    titles = product.find_elements('xpath', \".//span[@class='a-size-base-plus a-color-base a-text-normal']\")\n",
    "    for title in titles:\n",
    "        product_titles.append(title.text)\n",
    "\n",
    "    prices = product.find_elements('xpath', \".//span[@class='a-price-whole']\") \n",
    "    for price in prices:\n",
    "        product_prices.append(price.text)\n",
    "\n",
    "    images = product.find_elements('xpath',\".//img[@srcset]\")\n",
    "    image_urls = [i.get_attribute('srcset').split(',')[0] for i in images]\n",
    "    for img in image_urls:\n",
    "        product_images.append(img)\n",
    " \n",
    "    total_rate = product.find_elements('xpath',\".//span[@class='a-size-base s-underline-text']\")    \n",
    "    for rate in total_rate:\n",
    "        product_rates.append(rate.text)\n",
    "\n",
    "    rates = product.find_elements('xpath',\".//span[@class='a-icon-alt']\")\n",
    "    ratings = [i.get_attribute('innerHTML').split(' ')[0] for i in rates]\n",
    "    for rate in ratings:\n",
    "        product_rating.append(rate.split()[0])    "
   ]
  },
  {
   "cell_type": "code",
   "execution_count": 6,
   "metadata": {},
   "outputs": [
    {
     "data": {
      "text/plain": [
       "(48, 48, 48, 47, 47)"
      ]
     },
     "execution_count": 6,
     "metadata": {},
     "output_type": "execute_result"
    }
   ],
   "source": [
    "len(product_titles),len(product_titles),len(product_images),len(product_rates),len(product_rating)"
   ]
  },
  {
   "cell_type": "code",
   "execution_count": 7,
   "metadata": {},
   "outputs": [],
   "source": [
    "# save data into data frame\n",
    "dict={'title':product_titles, 'price':product_prices, 'images':product_images, 'rate':product_rating, 'total rate':product_rates}\n",
    "data = pd.DataFrame.from_dict(dict, orient='index')\n",
    "data = data.transpose()"
   ]
  },
  {
   "cell_type": "code",
   "execution_count": 8,
   "metadata": {},
   "outputs": [
    {
     "data": {
      "text/html": [
       "<div>\n",
       "<style scoped>\n",
       "    .dataframe tbody tr th:only-of-type {\n",
       "        vertical-align: middle;\n",
       "    }\n",
       "\n",
       "    .dataframe tbody tr th {\n",
       "        vertical-align: top;\n",
       "    }\n",
       "\n",
       "    .dataframe thead th {\n",
       "        text-align: right;\n",
       "    }\n",
       "</style>\n",
       "<table border=\"1\" class=\"dataframe\">\n",
       "  <thead>\n",
       "    <tr style=\"text-align: right;\">\n",
       "      <th></th>\n",
       "      <th>title</th>\n",
       "      <th>price</th>\n",
       "      <th>images</th>\n",
       "      <th>rate</th>\n",
       "      <th>total rate</th>\n",
       "    </tr>\n",
       "  </thead>\n",
       "  <tbody>\n",
       "    <tr>\n",
       "      <th>0</th>\n",
       "      <td>Galaxy A15 Dual SIM 6GB Ram+128GB ROM (6.5 Inc...</td>\n",
       "      <td>6,600</td>\n",
       "      <td>https://m.media-amazon.com/images/I/61cl1NEIrd...</td>\n",
       "      <td>4.0</td>\n",
       "      <td>843</td>\n",
       "    </tr>\n",
       "    <tr>\n",
       "      <th>1</th>\n",
       "      <td>Galaxy A05 LTE, Android Smartphone, Dual SIM M...</td>\n",
       "      <td>5,699</td>\n",
       "      <td>https://m.media-amazon.com/images/I/71dYQdmhwF...</td>\n",
       "      <td>3.8</td>\n",
       "      <td>52</td>\n",
       "    </tr>\n",
       "    <tr>\n",
       "      <th>2</th>\n",
       "      <td>Galaxy A55 5G, Android Smartphone, Dual SIM Mo...</td>\n",
       "      <td>18,599</td>\n",
       "      <td>https://m.media-amazon.com/images/I/71iDfC-A+G...</td>\n",
       "      <td>4.0</td>\n",
       "      <td>119</td>\n",
       "    </tr>\n",
       "    <tr>\n",
       "      <th>3</th>\n",
       "      <td>Galaxy M33, Dual SIM, 8GB RAM, 128GB Storage, ...</td>\n",
       "      <td>7,499</td>\n",
       "      <td>https://m.media-amazon.com/images/I/71rc4wx5L5...</td>\n",
       "      <td>3.8</td>\n",
       "      <td>56</td>\n",
       "    </tr>\n",
       "    <tr>\n",
       "      <th>4</th>\n",
       "      <td>Galaxy A15 Dual SIM 8GB Ram+256GGB ROM (6.5 In...</td>\n",
       "      <td>8,200</td>\n",
       "      <td>https://m.media-amazon.com/images/I/51Cida8Rec...</td>\n",
       "      <td>4.0</td>\n",
       "      <td>843</td>\n",
       "    </tr>\n",
       "  </tbody>\n",
       "</table>\n",
       "</div>"
      ],
      "text/plain": [
       "                                               title   price  \\\n",
       "0  Galaxy A15 Dual SIM 6GB Ram+128GB ROM (6.5 Inc...   6,600   \n",
       "1  Galaxy A05 LTE, Android Smartphone, Dual SIM M...   5,699   \n",
       "2  Galaxy A55 5G, Android Smartphone, Dual SIM Mo...  18,599   \n",
       "3  Galaxy M33, Dual SIM, 8GB RAM, 128GB Storage, ...   7,499   \n",
       "4  Galaxy A15 Dual SIM 8GB Ram+256GGB ROM (6.5 In...   8,200   \n",
       "\n",
       "                                              images rate total rate  \n",
       "0  https://m.media-amazon.com/images/I/61cl1NEIrd...  4.0        843  \n",
       "1  https://m.media-amazon.com/images/I/71dYQdmhwF...  3.8         52  \n",
       "2  https://m.media-amazon.com/images/I/71iDfC-A+G...  4.0        119  \n",
       "3  https://m.media-amazon.com/images/I/71rc4wx5L5...  3.8         56  \n",
       "4  https://m.media-amazon.com/images/I/51Cida8Rec...  4.0        843  "
      ]
     },
     "execution_count": 8,
     "metadata": {},
     "output_type": "execute_result"
    }
   ],
   "source": [
    "data.head(5)"
   ]
  },
  {
   "cell_type": "code",
   "execution_count": 9,
   "metadata": {},
   "outputs": [
    {
     "data": {
      "text/plain": [
       "title         0\n",
       "price         0\n",
       "images        0\n",
       "rate          1\n",
       "total rate    1\n",
       "dtype: int64"
      ]
     },
     "execution_count": 9,
     "metadata": {},
     "output_type": "execute_result"
    }
   ],
   "source": [
    "data.isnull().sum()"
   ]
  },
  {
   "cell_type": "code",
   "execution_count": 10,
   "metadata": {},
   "outputs": [
    {
     "name": "stdout",
     "output_type": "stream",
     "text": [
      "<class 'pandas.core.frame.DataFrame'>\n",
      "RangeIndex: 48 entries, 0 to 47\n",
      "Data columns (total 5 columns):\n",
      " #   Column      Non-Null Count  Dtype \n",
      "---  ------      --------------  ----- \n",
      " 0   title       48 non-null     object\n",
      " 1   price       48 non-null     object\n",
      " 2   images      48 non-null     object\n",
      " 3   rate        47 non-null     object\n",
      " 4   total rate  47 non-null     object\n",
      "dtypes: object(5)\n",
      "memory usage: 2.0+ KB\n"
     ]
    }
   ],
   "source": [
    "data.info()"
   ]
  },
  {
   "cell_type": "code",
   "execution_count": 29,
   "metadata": {},
   "outputs": [
    {
     "data": {
      "text/plain": [
       "(48, 5)"
      ]
     },
     "execution_count": 29,
     "metadata": {},
     "output_type": "execute_result"
    }
   ],
   "source": [
    "data.shape"
   ]
  },
  {
   "cell_type": "code",
   "execution_count": 30,
   "metadata": {},
   "outputs": [],
   "source": [
    "data.to_csv('Amazon_products.csv')"
   ]
  },
  {
   "cell_type": "code",
   "execution_count": null,
   "metadata": {},
   "outputs": [],
   "source": []
  }
 ],
 "metadata": {
  "kernelspec": {
   "display_name": "Python 3",
   "language": "python",
   "name": "python3"
  },
  "language_info": {
   "codemirror_mode": {
    "name": "ipython",
    "version": 3
   },
   "file_extension": ".py",
   "mimetype": "text/x-python",
   "name": "python",
   "nbconvert_exporter": "python",
   "pygments_lexer": "ipython3",
   "version": "3.10.2"
  }
 },
 "nbformat": 4,
 "nbformat_minor": 2
}
